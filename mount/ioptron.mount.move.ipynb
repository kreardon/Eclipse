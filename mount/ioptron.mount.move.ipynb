{
 "cells": [
  {
   "cell_type": "code",
   "execution_count": 1,
   "id": "81f7ea59",
   "metadata": {},
   "outputs": [],
   "source": [
    "import time\n",
    "from alpaca.telescope import *\n",
    "from alpaca.exceptions import *\n",
    "\n",
    "import astropy.units as u\n",
    "import numpy as np"
   ]
  },
  {
   "cell_type": "markdown",
   "id": "7a47eb94",
   "metadata": {},
   "source": [
    "Make sure the following programs running before continuing.\n",
    "* iOptron Commander\n",
    "* ASCOM Remote Server\n",
    "\n",
    "Alternatively, for testing purposes, the Omni Simulator could also be used instead of the iOptron Commander"
   ]
  },
  {
   "cell_type": "code",
   "execution_count": 12,
   "id": "884c19c8",
   "metadata": {},
   "outputs": [
    {
     "name": "stdout",
     "output_type": "stream",
     "text": [
      "localhost:11111\n"
     ]
    }
   ],
   "source": [
    "server_port = 11111\n",
    "print('localhost:'+str(server_port))\n",
    "T = Telescope('localhost:'+str(server_port), 0)"
   ]
  },
  {
   "cell_type": "code",
   "execution_count": 13,
   "id": "83cddccc",
   "metadata": {},
   "outputs": [
    {
     "name": "stdout",
     "output_type": "stream",
     "text": [
      "Telescope connection is up\n"
     ]
    }
   ],
   "source": [
    "if (T.Connected == True):\n",
    "    print('Telescope connection is up')\n",
    "else:\n",
    "    print('Telescope connection is inactive')\n"
   ]
  },
  {
   "cell_type": "code",
   "execution_count": 14,
   "id": "543ea5ee",
   "metadata": {},
   "outputs": [
    {
     "name": "stdout",
     "output_type": "stream",
     "text": [
      "Current Telescope Pointing: [0.8149194444444444, 19.157227777777777]\n"
     ]
    }
   ],
   "source": [
    "current_pointing = [T.RightAscension,T.Declination]\n",
    "print('Current Telescope Pointing:', current_pointing)"
   ]
  },
  {
   "cell_type": "code",
   "execution_count": 8,
   "id": "74246959",
   "metadata": {},
   "outputs": [],
   "source": [
    "def convert_solar_coord(current_ra_dec, solar_target):\n",
    "    coord_celestial = [current_ra_dec[0] * 15, current_ra_dec[1]] * u.deg  # R.A. and Dec\n",
    "    position_angle = 16.697692 * u.deg\n",
    "    position_angle = 0 * u.deg\n",
    "\n",
    "    offset_arcsec = solar_target * u.arcsec # desired offset in arcseconds\n",
    "    print('Desired pointing offsets [arcseconds and degrees]')\n",
    "    print(offset_arcsec)\n",
    "    print((offset_arcsec.to(u.deg)))\n",
    "\n",
    "    # Equation 25\n",
    "    offset_arcsec_sin = np.sin(offset_arcsec)\n",
    "    offset_arcsec_cos = np.cos(offset_arcsec)\n",
    "    offset_arcsec_tan = np.tan(offset_arcsec)\n",
    "\n",
    "    ratio_pos_angle = -offset_arcsec_sin[0]/offset_arcsec_tan[1]\n",
    "\n",
    "    ratio_pos_angle_atan = np.arctan(ratio_pos_angle)\n",
    "\n",
    "    pos_angle = ratio_pos_angle_atan + position_angle\n",
    "\n",
    "    # Equation 26\n",
    "    sum_offsets = np.sqrt(offset_arcsec_sin[0]**2 + offset_arcsec_tan[1]**2) / offset_arcsec_cos[0]\n",
    "    angular_distance = np.arctan(sum_offsets)\n",
    "\n",
    "    #print('Desired pointing offsets [position angle, angular distance]')\n",
    "    #print(pos_angle.to(u.deg), angular_distance.to(u.deg))\n",
    "\n",
    "    # Equation 27\n",
    "    sin_declination = np.sin(coord_celestial[1]) * np.cos(angular_distance) + \\\n",
    "                      np.cos(coord_celestial[1]) * np.sin(angular_distance) * np.cos(pos_angle)\n",
    "    declination     = np.arcsin(sin_declination).to(u.deg)\n",
    "\n",
    "    #print(declination.to(u.deg)\n",
    "\n",
    "    # Equation 28\n",
    "    tan_ra_offset =  np.sin(angular_distance) * np.sin(pos_angle) / \\\n",
    "                    (np.cos(angular_distance) * np.cos(coord_celestial[1]) - \\\n",
    "                     np.sin(angular_distance) * np.sin(coord_celestial[1]) * np.cos(pos_angle))\n",
    "    ra_offset = np.arctan(tan_ra_offset)\n",
    "\n",
    "    print('R.A. and Dec offsets')\n",
    "    print(ra_offset.to(u.deg),declination.to(u.deg) - coord_celestial[1])\n",
    "    \n",
    "    return((coord_celestial[0] + ra_offset)/15, declination)"
   ]
  },
  {
   "cell_type": "code",
   "execution_count": 31,
   "id": "37d8bdbb",
   "metadata": {},
   "outputs": [
    {
     "name": "stdout",
     "output_type": "stream",
     "text": [
      "[0.8149194444444444, 19.157227777777777]\n",
      "Desired pointing offsets [arcseconds and degrees]\n",
      "[900.   0.] arcsec\n",
      "[0.25 0.  ] deg\n",
      "R.A. and Dec offsets\n",
      "-0.25360716641260844 deg 0.07165636419083654 deg\n",
      "0.8318265888719517 deg\n",
      "19.228884141968614 deg\n"
     ]
    }
   ],
   "source": [
    "print(current_pointing)\n",
    "new_target_pointing = convert_solar_coord(current_pointing, [900,0])\n",
    "print(new_target_pointing[0])\n",
    "print(new_target_pointing[1])"
   ]
  },
  {
   "cell_type": "code",
   "execution_count": 7,
   "id": "b6aed50b",
   "metadata": {},
   "outputs": [],
   "source": [
    "repoint = T.SlewToCoordinatesAsync(new_target_pointing[0].value, new_target_pointing[1].value)"
   ]
  },
  {
   "cell_type": "code",
   "execution_count": 8,
   "id": "b46f43aa",
   "metadata": {},
   "outputs": [
    {
     "name": "stdout",
     "output_type": "stream",
     "text": [
      "Current Telescope Pointing: 23.9719 19.90306111111111\n"
     ]
    }
   ],
   "source": [
    "print('Current Telescope Pointing:', T.RightAscension,T.Declination)"
   ]
  },
  {
   "cell_type": "code",
   "execution_count": 9,
   "id": "ae9849ea",
   "metadata": {},
   "outputs": [],
   "source": [
    "def go_to_solar(solar_target, current_solar=[0,0]):\n",
    "    current_pointing = [T.RightAscension,T.Declination]\n",
    "    print('Telescope pointing before move:', current_pointing[0],current_pointing[1])\n",
    "    \n",
    "    combined_offset = [0,0]\n",
    "    combined_offset[0] = solar_target[0]- current_solar[0]\n",
    "    combined_offset[1] = solar_target[1]- current_solar[1]\n",
    "    print('Combined Offsets:', combined_offset[0],combined_offset[1])\n",
    "\n",
    "    new_target_pointing = convert_solar_coord(current_pointing, combined_offset)\n",
    "\n",
    "    repoint = T.SlewToCoordinatesAsync(new_target_pointing[0].value, new_target_pointing[1].value)\n",
    "    while(T.Slewing):\n",
    "        time.sleep(0.5)               \n",
    "\n",
    "    print('Current Telescope Pointing:', T.RightAscension,T.Declination)\n",
    "    "
   ]
  },
  {
   "cell_type": "code",
   "execution_count": 10,
   "id": "b05ad524",
   "metadata": {},
   "outputs": [
    {
     "name": "stdout",
     "output_type": "stream",
     "text": [
      "Telescope pointing before move: 23.97190277777778 19.90306111111111\n",
      "Combined Offsets: -657 564\n",
      "Desired pointing offsets [arcseconds and degrees]\n",
      "[-657.  564.] arcsec\n",
      "[-0.1825      0.15666667] deg\n",
      "R.A. and Dec offsets\n",
      "0.2339263207783043 deg 0.0974717996865202 deg\n",
      "Current Telescope Pointing: 23.987513888888888 20.000544444444444\n"
     ]
    }
   ],
   "source": [
    "go_to_solar([-357,864], [300,300])"
   ]
  },
  {
   "cell_type": "code",
   "execution_count": 15,
   "id": "4d226995",
   "metadata": {},
   "outputs": [
    {
     "name": "stdout",
     "output_type": "stream",
     "text": [
      "Current Telescope Pointing: 0.8149166666666667 19.157227777777777\n"
     ]
    }
   ],
   "source": [
    "print('Current Telescope Pointing:', T.RightAscension,T.Declination)"
   ]
  },
  {
   "cell_type": "code",
   "execution_count": 26,
   "id": "b48c3120",
   "metadata": {},
   "outputs": [
    {
     "name": "stdout",
     "output_type": "stream",
     "text": [
      "Telescope pointing before move: 0.8149333333333334 19.15725\n",
      "Combined Offsets: -200 0\n",
      "Desired pointing offsets [arcseconds and degrees]\n",
      "[-200.    0.] arcsec\n",
      "[-0.05555556  0.        ] deg\n",
      "R.A. and Dec offsets\n",
      "0.05632716873599322 deg -0.015970911141522492 deg\n",
      "Current Telescope Pointing: 0.8187027777777778 19.1413\n"
     ]
    }
   ],
   "source": [
    "go_to_solar([-200,0],[0,0])"
   ]
  },
  {
   "cell_type": "code",
   "execution_count": 27,
   "id": "6cebe9ab",
   "metadata": {},
   "outputs": [],
   "source": [
    "repoint = T.SlewToCoordinatesAsync(0.8149194444444444, 19.157227777777777)"
   ]
  },
  {
   "cell_type": "code",
   "execution_count": 10,
   "id": "fa32e978",
   "metadata": {},
   "outputs": [
    {
     "name": "stdout",
     "output_type": "stream",
     "text": [
      "Desired pointing offsets [arcseconds and degrees]\n",
      "[960.   0.] arcsec\n",
      "[0.26666667 0.        ] deg\n",
      "R.A. and Dec offsets\n",
      "-0.2889279065508774 deg 0.00025880476302120314 deg\n"
     ]
    }
   ],
   "source": [
    "coord_new = convert_solar_coord([19.055273, -22.6386],[960,0])"
   ]
  },
  {
   "cell_type": "code",
   "execution_count": 14,
   "id": "5a262eaa",
   "metadata": {},
   "outputs": [
    {
     "name": "stdout",
     "output_type": "stream",
     "text": [
      "(<Quantity 19.03601114 deg>, <Quantity -22.6383412 deg>) 2.160668373796497\n"
     ]
    }
   ],
   "source": [
    "print(coord_new,(coord_new[0].value - int(coord_new[0].value))*60)"
   ]
  },
  {
   "cell_type": "code",
   "execution_count": null,
   "id": "08a6c948",
   "metadata": {},
   "outputs": [],
   "source": []
  }
 ],
 "metadata": {
  "kernelspec": {
   "display_name": "Python 3 (ipykernel)",
   "language": "python",
   "name": "python3"
  },
  "language_info": {
   "codemirror_mode": {
    "name": "ipython",
    "version": 3
   },
   "file_extension": ".py",
   "mimetype": "text/x-python",
   "name": "python",
   "nbconvert_exporter": "python",
   "pygments_lexer": "ipython3",
   "version": "3.10.9"
  }
 },
 "nbformat": 4,
 "nbformat_minor": 5
}
