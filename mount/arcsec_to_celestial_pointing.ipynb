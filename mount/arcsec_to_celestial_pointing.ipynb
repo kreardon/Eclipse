{
 "cells": [
  {
   "cell_type": "code",
   "execution_count": 4,
   "id": "87769230-8ca1-45a1-babb-03104c86d5fc",
   "metadata": {},
   "outputs": [],
   "source": [
    "import astropy.units as u\n",
    "import numpy as np\n"
   ]
  },
  {
   "cell_type": "code",
   "execution_count": 70,
   "id": "60d4b3c6-36f0-4bbe-850e-59fa4aea3e38",
   "metadata": {},
   "outputs": [
    {
     "name": "stdout",
     "output_type": "stream",
     "text": [
      "Desired pointing offsets [arcseconds and degrees]\n",
      "[-357.  864.] arcsec\n",
      "[-0.09916667  0.24      ] deg\n",
      "Desired pointing offsets [position angle, angular distance]\n",
      "39.14770571199773 deg 0.25968051575323975 deg\n"
     ]
    }
   ],
   "source": [
    "coord_celestial = [16.359300 * 15, -21.512116] * u.deg  # R.A. and Dec\n",
    "position_angle = 16.697692 * u.deg\n",
    "\n",
    "offset_arcsec = [-357, 864] * u.arcsec # desired offset in arcseconds\n",
    "print('Desired pointing offsets [arcseconds and degrees]')\n",
    "print(offset_arcsec)\n",
    "print((offset_arcsec.to(u.deg)))\n",
    "\n",
    "# Equation 25\n",
    "offset_arcsec_sin = np.sin(offset_arcsec)\n",
    "offset_arcsec_cos = np.cos(offset_arcsec)\n",
    "offset_arcsec_tan = np.tan(offset_arcsec)\n",
    "\n",
    "ratio_pos_angle = -offset_arcsec_sin[0]/offset_arcsec_tan[1]\n",
    "\n",
    "ratio_pos_angle_atan = np.arctan(ratio_pos_angle)\n",
    "\n",
    "pos_angle = ratio_pos_angle_atan + position_angle\n",
    "\n",
    "# Equation 26\n",
    "sum_offsets = np.sqrt(offset_arcsec_sin[0]**2 + offset_arcsec_tan[1]**2) / offset_arcsec_cos[0]\n",
    "angular_distance = np.arctan(sum_offsets)\n",
    "\n",
    "print('Desired pointing offsets [position angle, angular distance]')\n",
    "\n",
    "print(pos_angle.to(u.deg), angular_distance.to(u.deg))\n"
   ]
  },
  {
   "cell_type": "code",
   "execution_count": 67,
   "id": "0d9b128d-9f97-43d8-8bf9-262b3d9a855c",
   "metadata": {},
   "outputs": [
    {
     "name": "stdout",
     "output_type": "stream",
     "text": [
      "[49.2  17.32] deg\n",
      "0.25968051575323975 deg 32.45001371199773 deg 0.004532264486501838\n",
      "0.21908085512017195 deg\n",
      "0.1461280444360866 deg\n"
     ]
    }
   ],
   "source": [
    "# Equation 25\n",
    "print(coord_celestial)\n",
    "print(angular_distance.to(u.deg),pos_angle.to(u.deg),np.sin(angular_distance))\n",
    "sin_declination = np.sin(coord_celestial[1]) * np.cos(angular_distance) + \\\n",
    "                  np.cos(coord_celestial[1]) * np.sin(angular_distance) * np.cos(pos_angle)\n",
    "declination     = np.arcsin(sin_delta)\n",
    "\n",
    "#print(declination.to(u.deg)\n",
    "print(declination.to(u.deg) - coord_celestial[1])\n",
    "\n",
    "# Equation 26\n",
    "tan_ra_offset =  np.sin(angular_distance) * np.sin(pos_angle) / \\\n",
    "                (np.cos(angular_distance) * np.cos(coord_celestial[1]) - \\\n",
    "                 np.sin(angular_distance) * np.sin(coord_celestial[1]) * np.cos(pos_angle))\n",
    "ra_offset = np.arctan(tan_ra_offset)\n",
    "\n",
    "print(ra_offset.to(u.deg))"
   ]
  },
  {
   "cell_type": "code",
   "execution_count": 69,
   "id": "7e73f530-806e-4f04-a234-462255446b37",
   "metadata": {},
   "outputs": [
    {
     "name": "stdout",
     "output_type": "stream",
     "text": [
      "3.2897418696290726 deg 17.539080855120172 deg\n"
     ]
    }
   ],
   "source": [
    "print((coord_celestial[0] + ra_offset)/15,declination.to(u.deg))"
   ]
  },
  {
   "cell_type": "code",
   "execution_count": null,
   "id": "0dde0ab8-9ee1-4646-b36d-56f36d63c652",
   "metadata": {},
   "outputs": [],
   "source": []
  },
  {
   "cell_type": "code",
   "execution_count": null,
   "id": "5afad03b-a411-490a-a25b-7c4af04f66b6",
   "metadata": {},
   "outputs": [],
   "source": []
  }
 ],
 "metadata": {
  "kernelspec": {
   "display_name": "Python 3 (ipykernel)",
   "language": "python",
   "name": "python3"
  },
  "language_info": {
   "codemirror_mode": {
    "name": "ipython",
    "version": 3
   },
   "file_extension": ".py",
   "mimetype": "text/x-python",
   "name": "python",
   "nbconvert_exporter": "python",
   "pygments_lexer": "ipython3",
   "version": "3.10.9"
  }
 },
 "nbformat": 4,
 "nbformat_minor": 5
}
